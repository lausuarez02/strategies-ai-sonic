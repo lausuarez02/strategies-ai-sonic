{
 "cells": [
  {
   "cell_type": "code",
   "execution_count": null,
   "metadata": {},
   "outputs": [],
   "source": [
    "import pandas as pd\n",
    "import matplotlib.pyplot as plt\n",
    "from allora_sdk import AlloraClient\n",
    "from datetime import datetime, timedelta\n",
    "import asyncio\n",
    "\n",
    "# Initialize Allora client\n",
    "client = AlloraClient(\n",
    "    chain=\"testnet\",\n",
    "    api_key=\"API_KEY\"\n",
    ")"
   ]
  },
  {
   "cell_type": "code",
   "execution_count": null,
   "metadata": {},
   "outputs": [],
   "source": [
    "# Function to fetch historical predictions from Allora\n",
    "async def fetch_historical_predictions(start_date, end_date, interval_hours=8):\n",
    "    predictions = []\n",
    "    current_date = start_date\n",
    "    \n",
    "    while current_date <= end_date:\n",
    "        # Get BTC and ETH predictions for each time period\n",
    "        btc_pred = client.get_price_inference(\n",
    "            asset=\"BTC\",\n",
    "            timeframe=\"8h\"\n",
    "        )\n",
    "        eth_pred = client.get_price_inference(\n",
    "            asset=\"ETH\",\n",
    "            timeframe=\"8h\"\n",
    "        )\n",
    "        \n",
    "        predictions.append({\n",
    "            'timestamp': current_date,\n",
    "            'btc_prediction': btc_pred['score'],\n",
    "            'eth_prediction': eth_pred['score'],\n",
    "            'risk_topics': [t for t in client.get_all_topics() if t.get('category') == 'risk']\n",
    "        })\n",
    "        \n",
    "        current_date += timedelta(hours=interval_hours)\n",
    "    \n",
    "    return pd.DataFrame(predictions)"
   ]
  },
  {
   "cell_type": "code",
   "execution_count": null,
   "metadata": {},
   "outputs": [],
   "source": [
    "# Backtesting strategy using Allora's predictions\n",
    "def backtest_strategy(data, initial_capital=10000):\n",
    "    portfolio_value = initial_capital\n",
    "    positions = []\n",
    "    \n",
    "    for idx, row in data.iterrows():\n",
    "        # Strategy logic based on Allora predictions\n",
    "        yield_score = (row['btc_prediction'] + row['eth_prediction']) / 2\n",
    "        risk_score = len(row['risk_topics']) / 10  # Simplified risk calculation\n",
    "        \n",
    "        # Execute trade if good opportunity\n",
    "        if yield_score > 0.1 and risk_score < 0.5:  # If good yield and low risk\n",
    "            position_size = portfolio_value * 0.1    # Use 10% of portfolio\n",
    "            estimated_return = yield_score * position_size\n",
    "            portfolio_value += estimated_return\n",
    "            \n",
    "            positions.append({\n",
    "                'timestamp': row['timestamp'],\n",
    "                'action': 'TRADE',\n",
    "                'portfolio_value': portfolio_value,\n",
    "                'yield_score': yield_score,\n",
    "                'risk_score': risk_score\n",
    "            })\n",
    "    \n",
    "    return pd.DataFrame(positions)"
   ]
  },
  {
   "cell_type": "code",
   "execution_count": null,
   "metadata": {},
   "outputs": [],
   "source": [
    "# Run backtest for last 30 days\n",
    "async def run_backtest():\n",
    "    end_date = datetime.now()\n",
    "    start_date = end_date - timedelta(days=30)\n",
    "    \n",
    "    # Get the data\n",
    "    print(\"Fetching historical predictions...\")\n",
    "    historical_data = await fetch_historical_predictions(start_date, end_date)\n",
    "    \n",
    "    # Test our strategy\n",
    "    print(\"Running backtest...\")\n",
    "    results = backtest_strategy(historical_data)\n",
    "    \n",
    "    # Create nice graphs\n",
    "    plt.figure(figsize=(12, 6))\n",
    "    plt.plot(results['timestamp'], results['portfolio_value'])\n",
    "    plt.title('Strategy Performance (Using Allora Predictions)')\n",
    "    plt.xlabel('Date')\n",
    "    plt.ylabel('Portfolio Value')\n",
    "    plt.grid(True)\n",
    "    \n",
    "    plt.figure(figsize=(12, 4))\n",
    "    plt.plot(results['timestamp'], results['yield_score'], label='Yield Score')\n",
    "    plt.plot(results['timestamp'], results['risk_score'], label='Risk Score')\n",
    "    plt.title('Yield and Risk Scores Over Time')\n",
    "    plt.xlabel('Date')\n",
    "    plt.ylabel('Score')\n",
    "    plt.legend()\n",
    "    plt.grid(True)\n",
    "    plt.show()\n",
    "    \n",
    "    return results"
   ]
  },
  {
   "cell_type": "code",
   "execution_count": null,
   "metadata": {},
   "outputs": [],
   "source": [
    "# Run the backtest\n",
    "results = await run_backtest()\n",
    "print(\"\\nBacktest Summary:\")\n",
    "print(f\"Total trades: {len(results)}\")\n",
    "print(f\"Final portfolio value: ${results['portfolio_value'].iloc[-1]:.2f}\")\n",
    "print(f\"Average yield score: {results['yield_score'].mean():.3f}\")\n",
    "print(f\"Average risk score: {results['risk_score'].mean():.3f}\")"
   ]
  }
 ],
 "metadata": {
  "kernelspec": {
   "display_name": "Python 3 (ipykernel)",
   "language": "python",
   "name": "python3"
  },
  "language_info": {
   "codemirror_mode": {
    "name": "ipython",
    "version": 3
   },
   "file_extension": ".py",
   "mimetype": "text/x-python",
   "name": "python",
   "nbconvert_exporter": "python",
   "pygments_lexer": "ipython3",
   "version": "3.12.8"
  }
 },
 "nbformat": 4,
 "nbformat_minor": 4
}
